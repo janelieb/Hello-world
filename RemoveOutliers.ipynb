{
  "nbformat": 4,
  "nbformat_minor": 0,
  "metadata": {
    "colab": {
      "name": "necromancerBoy.ipynb",
      "version": "0.3.2",
      "provenance": [],
      "collapsed_sections": [],
      "include_colab_link": true
    },
    "kernelspec": {
      "name": "python3",
      "display_name": "Python 3"
    }
  },
  "cells": [
    {
      "cell_type": "markdown",
      "metadata": {
        "id": "view-in-github",
        "colab_type": "text"
      },
      "source": [
        "<a href=\"https://colab.research.google.com/github/janelieb/Hello-world/blob/master/RemoveOutliers.ipynb\" target=\"_parent\"><img src=\"https://colab.research.google.com/assets/colab-badge.svg\" alt=\"Open In Colab\"/></a>"
      ]
    },
    {
      "metadata": {
        "id": "qNxbeX3lfqp5",
        "colab_type": "code",
        "colab": {}
      },
      "cell_type": "code",
      "source": [
        "#given a list of integers return the integers without outliers. List has repeats generally grouped on one side\n",
        "\n",
        "#my approach would be to count the amount of integers given, take the top percentile and bottom percentile after sorting as the 90th and 10th percentile cutoff. \n",
        " #this would be more manipulatable for different scales, log-scale or exponentials. This could also be better optomized.\n",
        "\n",
        "\n",
        "\n",
        "#get thresholds - assumes array of positive integers\n",
        "#pseudocode function(inputs: array, threshold settings):\n",
        "  #count = input.length\n",
        "  #sorted = input.sort\n",
        "  #min_index = floor(min_setting/count)\n",
        "  #min = sorted(min_index)\n",
        "  #max_index = ceil(max_setting/count)\n",
        "  #max = sorted(max_index)\n",
        "  #ouptput = []\n",
        "  #loop through input\n",
        "  #if satisifies between thresholds inclusively\n",
        "  #ouptut.add\n",
        "  #return output\n",
        "\n",
        "\n",
        "import math\n",
        "\n",
        "\n",
        "def RemoveOutliers(inputs, offset):\n",
        "  #Step 1, sort the input\n",
        "  sortedInputs=[]\n",
        "  sortedInputs = inputs.copy()\n",
        "  sortedInputs.sort()\n",
        "  count = len(inputs)\n",
        "  #Step 2 get the min and max thresholds - assume 10% offsets\n",
        "  offset = offset\n",
        "  min_index = 0\n",
        "  max_index = count\n",
        "  min_value = sortedInputs[0]\n",
        "  max_value = sortedInputs[count-1]\n",
        "  lower_index = (offset/100.0)*count\n",
        "  upper_index = ((100.0-offset)/100.0)*count\n",
        "  lower_threshold= (sortedInputs[math.floor(lower_index)])\n",
        "  upper_threshold= (sortedInputs[math.ceil(upper_index)-1])\n",
        "  #Step 3 create new array and return\n",
        "  output = []\n",
        "  for x in sortedInputs:\n",
        "    if lower_threshold <=x and x<= upper_threshold:\n",
        "      output.append(x)\n",
        "  return output"
      ],
      "execution_count": 0,
      "outputs": []
    },
    {
      "metadata": {
        "id": "N0IFWJvobi7T",
        "colab_type": "code",
        "colab": {}
      },
      "cell_type": "code",
      "source": [
        ""
      ],
      "execution_count": 0,
      "outputs": []
    },
    {
      "metadata": {
        "id": "QghGYLWaJjuX",
        "colab_type": "code",
        "colab": {}
      },
      "cell_type": "code",
      "source": [
        ""
      ],
      "execution_count": 0,
      "outputs": []
    },
    {
      "metadata": {
        "id": "9MIGwjmWKmzv",
        "colab_type": "code",
        "colab": {
          "base_uri": "https://localhost:8080/",
          "height": 272
        },
        "outputId": "dcca31de-d0c3-4d5f-b2aa-b93b8f149dfc"
      },
      "cell_type": "code",
      "source": [
        "inputsToTest = [1,0,2,1,2,1,3,4,8,21,99,33,2,1,1]\n",
        "offsetToTest = 5.0\n",
        "test = RemoveOutliers(inputsToTest, offsetToTest)\n",
        "for x in test:\n",
        "  print(x)"
      ],
      "execution_count": 59,
      "outputs": [
        {
          "output_type": "stream",
          "text": [
            "0\n",
            "1\n",
            "1\n",
            "1\n",
            "1\n",
            "1\n",
            "2\n",
            "2\n",
            "2\n",
            "3\n",
            "4\n",
            "8\n",
            "21\n",
            "33\n",
            "99\n"
          ],
          "name": "stdout"
        }
      ]
    },
    {
      "metadata": {
        "id": "RM_7fjlCP6kl",
        "colab_type": "code",
        "colab": {}
      },
      "cell_type": "code",
      "source": [
        "\n"
      ],
      "execution_count": 0,
      "outputs": []
    }
  ]
}